{
 "cells": [
  {
   "cell_type": "markdown",
   "metadata": {},
   "source": [
    "# COMP30760 Assignment 1: Task 1 "
   ]
  },
  {
   "cell_type": "markdown",
   "metadata": {},
   "source": [
    "### Student Number: 22202307"
   ]
  },
  {
   "cell_type": "markdown",
   "metadata": {
    "id": "8xPBt1TyiCRP"
   },
   "source": [
    "# Data Collection"
   ]
  },
  {
   "cell_type": "markdown",
   "metadata": {},
   "source": [
    "In this analysis, we will examine earthquake data using the [United States Geological Survey (USGS) API](https://www.usgs.gov/programs/earthquake-hazards/data). The USGS is a government agency responsible for monitoring, reporting, and researching earthquakes and other natural hazards.\n",
    "\n",
    "The USGS API provides access to real-time and historical earthquake data, including information about the location, magnitude, and depth of each earthquake. This information can be used to better understand the patterns and trends of seismic events, and to develop strategies for predicting and mitigating their impact.\n",
    "\n",
    "In this analysis, we will focus on exploring the frequency, magnitude, and distribution of earthquakes, and visualizing the data using maps and plots. Additionally, we will investigate whether there are any correlations between earthquakes and other natural phenomena, such as volcanic activity or changes in ocean currents.\n",
    "\n",
    "By conducting this analysis, we hope to gain valuable insights into the patterns and trends of earthquakes, and to contribute to ongoing efforts to understand and mitigate their impact."
   ]
  },
  {
   "cell_type": "markdown",
   "metadata": {
    "id": "_N_pKih4iWLq"
   },
   "source": [
    "### Import Required Libraries"
   ]
  },
  {
   "cell_type": "markdown",
   "metadata": {
    "id": "wheznQchoUfM"
   },
   "source": [
    "Import the required libraries for retrieving the data from the URL and save the data."
   ]
  },
  {
   "cell_type": "code",
   "execution_count": 10,
   "metadata": {
    "id": "29-6xBmgh6CG"
   },
   "outputs": [],
   "source": [
    "import urllib.request\n",
    "import json\n",
    "import pandas as pd;"
   ]
  },
  {
   "cell_type": "markdown",
   "metadata": {
    "id": "CtK7O7h2ifYQ"
   },
   "source": [
    "### Function to retrieve the data from the URL"
   ]
  },
  {
   "cell_type": "markdown",
   "metadata": {
    "id": "ULEK2GQuonSf"
   },
   "source": [
    "A python function is created which takes the API URL as input and returns the json data as output. The method is surrounded with try catch blocks to print the exceptions occurred due to invalid URL or HTTP error. To read the data from the URL, the urllib package is used and the response is decoded into a json format."
   ]
  },
  {
   "cell_type": "code",
   "execution_count": 11,
   "metadata": {
    "id": "vFgBHWbQiq7_"
   },
   "outputs": [],
   "source": [
    "def read_data_from_url(your_url):\n",
    "    data={};\n",
    "    # try catch statement for capturing the HTTP error and URL error\n",
    "    try:\n",
    "        with urllib.request.urlopen(your_url) as url:\n",
    "            # parse a valid JSON string and convert it into a Python Dictionary\n",
    "            data = json.loads(url.read().decode())\n",
    "        print(\"Data retrieved from URL\")\n",
    "    except urllib.error.HTTPError as e:\n",
    "        print('Exception error:', e)\n",
    "    except urllib.error.URLError as e:\n",
    "        print('Exception error:', e)\n",
    "    except ValueError:\n",
    "        print(\"Exception raised : Incorrect url defined\")\n",
    "    return data;"
   ]
  },
  {
   "cell_type": "markdown",
   "metadata": {
    "id": "U5MzdMB2ivJ-"
   },
   "source": [
    "### Function Call: provide the URL as *input*"
   ]
  },
  {
   "cell_type": "markdown",
   "metadata": {
    "id": "W3mCfS5upG1t"
   },
   "source": [
    "The function call to read the data is instantiated in this block of code."
   ]
  },
  {
   "cell_type": "code",
   "execution_count": 12,
   "metadata": {
    "colab": {
     "base_uri": "https://localhost:8080/"
    },
    "id": "pae6iPG_i5To",
    "outputId": "af455fcd-366f-420e-ddb5-627c3b0b094b"
   },
   "outputs": [
    {
     "name": "stdout",
     "output_type": "stream",
     "text": [
      "Data retrieved from URL\n"
     ]
    }
   ],
   "source": [
    "data=read_data_from_url(\"https://earthquake.usgs.gov/earthquakes/feed/v1.0/summary/all_month.geojson\");"
   ]
  },
  {
   "cell_type": "markdown",
   "metadata": {
    "id": "TQhhbkCHjC1p"
   },
   "source": [
    "### Save Data"
   ]
  },
  {
   "cell_type": "markdown",
   "metadata": {
    "id": "hv8oChBGpP-9"
   },
   "source": [
    "The retrieved data is saved into a file with the extension .json so that it can be used in task 2 to perform analysis and visualization purpose. The in-built function 'with open' is used to write the data into the file."
   ]
  },
  {
   "cell_type": "code",
   "execution_count": 13,
   "metadata": {
    "id": "DaSlLz3ujoRi"
   },
   "outputs": [],
   "source": [
    "with open('data.json', 'w') as file:\n",
    "    json.dump(data, file)\n",
    "\n",
    "file.close()"
   ]
  }
 ],
 "metadata": {
  "colab": {
   "provenance": []
  },
  "kernelspec": {
   "display_name": "Python 3 (ipykernel)",
   "language": "python",
   "name": "python3"
  },
  "language_info": {
   "codemirror_mode": {
    "name": "ipython",
    "version": 3
   },
   "file_extension": ".py",
   "mimetype": "text/x-python",
   "name": "python",
   "nbconvert_exporter": "python",
   "pygments_lexer": "ipython3",
   "version": "3.9.13"
  }
 },
 "nbformat": 4,
 "nbformat_minor": 1
}
